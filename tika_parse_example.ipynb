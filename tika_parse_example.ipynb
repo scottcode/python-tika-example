{
 "cells": [
  {
   "cell_type": "markdown",
   "metadata": {},
   "source": [
    "Show some examples of using Apache Tika from within Python. \n",
    "\n",
    "The following imports the Python `tika` package. The `initVM()` starts a Java process that runs the Tika server. Subsequent uses of the Python tika package send the parsing requests to that server and get the results back. "
   ]
  },
  {
   "cell_type": "code",
   "execution_count": 1,
   "metadata": {
    "collapsed": true
   },
   "outputs": [],
   "source": [
    "from __future__ import print_function\n",
    "import os\n",
    "import sys\n",
    "import xml.etree.ElementTree as ET\n",
    "\n",
    "import tika\n",
    "tika.initVM()\n",
    "from tika import parser"
   ]
  },
  {
   "cell_type": "markdown",
   "metadata": {},
   "source": [
    "The example files we have are in the `data` sub-directory and are:\n",
    "* example.xlsx\n",
    "* mydoc.pdf\n",
    "* sun-flower-1536088_640.jpg"
   ]
  },
  {
   "cell_type": "markdown",
   "metadata": {},
   "source": [
    "# PDF Example"
   ]
  },
  {
   "cell_type": "markdown",
   "metadata": {},
   "source": [
    "## Parse from file"
   ]
  },
  {
   "cell_type": "code",
   "execution_count": 3,
   "metadata": {
    "collapsed": true
   },
   "outputs": [],
   "source": [
    "pdf_plain = parser.from_file('data/mydoc.pdf', xmlContent=False)"
   ]
  },
  {
   "cell_type": "code",
   "execution_count": 4,
   "metadata": {},
   "outputs": [
    {
     "data": {
      "text/plain": [
       "{'content': '\\n\\n\\n\\n\\n\\n\\n\\n\\n\\n\\n\\n\\n\\n\\n\\n\\n\\n\\n\\n\\n\\n\\n\\n\\n\\n\\n\\n\\n\\n\\n\\n\\n\\n\\n\\n\\n\\n\\n\\n\\n\\n\\n\\n\\n\\n\\n\\n\\n\\nMy Document\\n\\n\\nHello\\tworld!\\t\\n\\n\\n',\n",
       " 'metadata': {'AAPL:Keywords': '',\n",
       "  'Author': ' Scott Hajek',\n",
       "  'Content-Type': 'application/pdf',\n",
       "  'Creation-Date': '2017-05-05T21:42:16Z',\n",
       "  'Keywords': '',\n",
       "  'Last-Modified': '2017-05-05T21:42:16Z',\n",
       "  'Last-Save-Date': '2017-05-05T21:42:16Z',\n",
       "  'X-Parsed-By': ['org.apache.tika.parser.DefaultParser',\n",
       "   'org.apache.tika.parser.pdf.PDFParser'],\n",
       "  'X-TIKA:parse_time_millis': '11',\n",
       "  'access_permission:assemble_document': 'true',\n",
       "  'access_permission:can_modify': 'true',\n",
       "  'access_permission:can_print': 'true',\n",
       "  'access_permission:can_print_degraded': 'true',\n",
       "  'access_permission:extract_content': 'true',\n",
       "  'access_permission:extract_for_accessibility': 'true',\n",
       "  'access_permission:fill_in_form': 'true',\n",
       "  'access_permission:modify_annotations': 'true',\n",
       "  'cp:subject': 'test PDF doc',\n",
       "  'created': 'Fri May 05 17:42:16 EDT 2017',\n",
       "  'creator': ' Scott Hajek',\n",
       "  'date': '2017-05-05T21:42:16Z',\n",
       "  'dc:creator': ' Scott Hajek',\n",
       "  'dc:format': 'application/pdf; version=1.3',\n",
       "  'dc:subject': '',\n",
       "  'dc:title': 'My Document',\n",
       "  'dcterms:created': '2017-05-05T21:42:16Z',\n",
       "  'dcterms:modified': '2017-05-05T21:42:16Z',\n",
       "  'meta:author': ' Scott Hajek',\n",
       "  'meta:creation-date': '2017-05-05T21:42:16Z',\n",
       "  'meta:keyword': '',\n",
       "  'meta:save-date': '2017-05-05T21:42:16Z',\n",
       "  'modified': '2017-05-05T21:42:16Z',\n",
       "  'pdf:PDFVersion': '1.3',\n",
       "  'pdf:docinfo:created': '2017-05-05T21:42:16Z',\n",
       "  'pdf:docinfo:creator': ' Scott Hajek',\n",
       "  'pdf:docinfo:creator_tool': 'Word',\n",
       "  'pdf:docinfo:custom:AAPL:Keywords': '',\n",
       "  'pdf:docinfo:keywords': '',\n",
       "  'pdf:docinfo:modified': '2017-05-05T21:42:16Z',\n",
       "  'pdf:docinfo:producer': 'Mac OS X 10.11.6 Quartz PDFContext',\n",
       "  'pdf:docinfo:subject': 'test PDF doc',\n",
       "  'pdf:docinfo:title': 'My Document',\n",
       "  'pdf:encrypted': 'false',\n",
       "  'producer': 'Mac OS X 10.11.6 Quartz PDFContext',\n",
       "  'resourceName': 'mydoc.pdf',\n",
       "  'subject': 'test PDF doc',\n",
       "  'title': 'My Document',\n",
       "  'xmp:CreatorTool': 'Word',\n",
       "  'xmpTPg:NPages': '1'}}"
      ]
     },
     "execution_count": 4,
     "metadata": {},
     "output_type": "execute_result"
    }
   ],
   "source": [
    "pdf_plain"
   ]
  },
  {
   "cell_type": "markdown",
   "metadata": {},
   "source": [
    "Note above that with the parameter `xmlContent=False`, the 'content' key has plain text. We can also get the content in XML format, which will include some of the metadata right in the content. "
   ]
  },
  {
   "cell_type": "code",
   "execution_count": 5,
   "metadata": {
    "collapsed": true
   },
   "outputs": [],
   "source": [
    "pdf_xml = parser.from_file('data/mydoc.pdf', xmlContent=True)"
   ]
  },
  {
   "cell_type": "code",
   "execution_count": 7,
   "metadata": {},
   "outputs": [
    {
     "data": {
      "text/plain": [
       "'<html xmlns=\"http://www.w3.org/1999/xhtml\">\\n<head>\\n<meta name=\"date\" content=\"2017-05-05T21:42:16Z\" />\\n<meta name=\"pdf:docinfo:custom:AAPL:Keywords\" content=\"\" />\\n<meta name=\"pdf:PDFVersion\" content=\"1.3\" />\\n<meta name=\"pdf:docinfo:title\" content=\"My Document\" />\\n<meta name=\"xmp:CreatorTool\" content=\"Word\" />\\n<meta name=\"Keywords\" content=\"\" />\\n<meta name=\"access_permission:modify_annotations\" content=\"true\" />\\n<meta name=\"access_permission:can_print_degraded\" content=\"true\" />\\n<meta name=\"subject\" content=\"test PDF doc\" />\\n<meta name=\"AAPL:Keywords\" content=\"\" />\\n<meta name=\"dc:creator\" content=\" Scott Hajek\" />\\n<meta name=\"dcterms:created\" content=\"2017-05-05T21:42:16Z\" />\\n<meta name=\"Last-Modified\" content=\"2017-05-05T21:42:16Z\" />\\n<meta name=\"dcterms:modified\" content=\"2017-05-05T21:42:16Z\" />\\n<meta name=\"dc:format\" content=\"application/pdf; version=1.3\" />\\n<meta name=\"Last-Save-Date\" content=\"2017-05-05T21:42:16Z\" />\\n<meta name=\"pdf:docinfo:creator_tool\" content=\"Word\" />\\n<meta name=\"access_permission:fill_in_form\" content=\"true\" />\\n<meta name=\"pdf:docinfo:keywords\" content=\"\" />\\n<meta name=\"pdf:docinfo:modified\" content=\"2017-05-05T21:42:16Z\" />\\n<meta name=\"meta:save-date\" content=\"2017-05-05T21:42:16Z\" />\\n<meta name=\"pdf:encrypted\" content=\"false\" />\\n<meta name=\"dc:title\" content=\"My Document\" />\\n<meta name=\"modified\" content=\"2017-05-05T21:42:16Z\" />\\n<meta name=\"cp:subject\" content=\"test PDF doc\" />\\n<meta name=\"pdf:docinfo:subject\" content=\"test PDF doc\" />\\n<meta name=\"Content-Type\" content=\"application/pdf\" />\\n<meta name=\"pdf:docinfo:creator\" content=\" Scott Hajek\" />\\n<meta name=\"X-Parsed-By\" content=\"org.apache.tika.parser.DefaultParser\" />\\n<meta name=\"X-Parsed-By\" content=\"org.apache.tika.parser.pdf.PDFParser\" />\\n<meta name=\"creator\" content=\" Scott Hajek\" />\\n<meta name=\"meta:author\" content=\" Scott Hajek\" />\\n<meta name=\"dc:subject\" content=\"\" />\\n<meta name=\"meta:creation-date\" content=\"2017-05-05T21:42:16Z\" />\\n<meta name=\"created\" content=\"Fri May 05 17:42:16 EDT 2017\" />\\n<meta name=\"access_permission:extract_for_accessibility\" content=\"true\" />\\n<meta name=\"access_permission:assemble_document\" content=\"true\" />\\n<meta name=\"xmpTPg:NPages\" content=\"1\" />\\n<meta name=\"Creation-Date\" content=\"2017-05-05T21:42:16Z\" />\\n<meta name=\"resourceName\" content=\"mydoc.pdf\" />\\n<meta name=\"access_permission:extract_content\" content=\"true\" />\\n<meta name=\"access_permission:can_print\" content=\"true\" />\\n<meta name=\"meta:keyword\" content=\"\" />\\n<meta name=\"Author\" content=\" Scott Hajek\" />\\n<meta name=\"producer\" content=\"Mac OS X 10.11.6 Quartz PDFContext\" />\\n<meta name=\"access_permission:can_modify\" content=\"true\" />\\n<meta name=\"pdf:docinfo:producer\" content=\"Mac OS X 10.11.6 Quartz PDFContext\" />\\n<meta name=\"pdf:docinfo:created\" content=\"2017-05-05T21:42:16Z\" />\\n<title>My Document</title>\\n</head>\\n<body><div class=\"page\"><p />\\n<p>Hello\\tworld!\\t</p>\\n<p />\\n</div>\\n</body></html>'"
      ]
     },
     "execution_count": 7,
     "metadata": {},
     "output_type": "execute_result"
    }
   ],
   "source": [
    "pdf_xml['content']"
   ]
  },
  {
   "cell_type": "markdown",
   "metadata": {},
   "source": [
    "## Parse from string/bytes"
   ]
  },
  {
   "cell_type": "code",
   "execution_count": 9,
   "metadata": {},
   "outputs": [],
   "source": [
    "with open('data/mydoc.pdf', 'rb') as f:\n",
    "    pdf_bytes = f.read()"
   ]
  },
  {
   "cell_type": "code",
   "execution_count": 12,
   "metadata": {},
   "outputs": [
    {
     "data": {
      "text/plain": [
       "b'%PDF-1.3\\n%\\xc4\\xe5\\xf2\\xe5\\xeb\\xa7\\xf3\\xa0\\xd0\\xc4\\xc6\\n4 0 obj\\n<< /Length 5 0 R /Fi'"
      ]
     },
     "execution_count": 12,
     "metadata": {},
     "output_type": "execute_result"
    }
   ],
   "source": [
    "pdf_bytes[:50]"
   ]
  },
  {
   "cell_type": "code",
   "execution_count": 13,
   "metadata": {
    "collapsed": true
   },
   "outputs": [],
   "source": [
    "pdf_from_bytes = parser.from_buffer(pdf_bytes, xmlContent=False)"
   ]
  },
  {
   "cell_type": "code",
   "execution_count": 14,
   "metadata": {},
   "outputs": [
    {
     "data": {
      "text/plain": [
       "'\\n\\n\\n\\n\\n\\n\\n\\n\\n\\n\\n\\n\\n\\n\\n\\n\\n\\n\\n\\n\\n\\n\\n\\n\\n\\n\\n\\n\\n\\n\\n\\n\\n\\n\\n\\n\\n\\n\\n\\n\\n\\n\\n\\n\\n\\n\\n\\n\\nMy Document\\n\\n\\nHello\\tworld!\\t\\n\\n\\n'"
      ]
     },
     "execution_count": 14,
     "metadata": {},
     "output_type": "execute_result"
    }
   ],
   "source": [
    "pdf_from_bytes['content']"
   ]
  },
  {
   "cell_type": "markdown",
   "metadata": {},
   "source": [
    "# Excel example"
   ]
  },
  {
   "cell_type": "code",
   "execution_count": 16,
   "metadata": {},
   "outputs": [],
   "source": [
    "xls_plain = parser.from_file('data/example.xlsx', xmlContent=False)"
   ]
  },
  {
   "cell_type": "code",
   "execution_count": 21,
   "metadata": {},
   "outputs": [
    {
     "data": {
      "text/plain": [
       "'\\n\\n\\n\\n\\n\\n\\n\\n\\n\\n\\n\\n\\n\\n\\n\\n\\n\\n\\n\\n\\n\\n\\n\\n\\n\\n\\n\\n\\n\\n\\nSheet1\\n\\tTitle\\tAuthor\\n\\tTom Sawyer\\tMark Twain\\n\\tOutliers\\tMalcolm Gladwell\\n\\n\\n\\n\\n\\n\\n\\n\\n\\n\\n\\n/docProps/thumbnail.jpeg\\n\\n \\n\\nMM MOM GM\\n\\n;zszT\\n\\n \\n\\n \\n\\n \\n\\n\\n\\n\\n\\n\\n\\n\\n\\n\\n\\n\\n\\n\\n\\n\\n\\n\\n\\n\\n\\n\\n\\n\\n\\n\\n\\n\\n\\n\\n\\n\\n\\n\\n\\n\\n\\n\\n\\n\\n\\n\\n\\n\\n\\n\\n\\n\\n\\n\\n\\n\\n\\n\\n\\n\\n\\n\\n\\n\\n/docProps/thumbnail.jpeg\\n\\n'"
      ]
     },
     "execution_count": 21,
     "metadata": {},
     "output_type": "execute_result"
    }
   ],
   "source": [
    "xls_plain['content']"
   ]
  },
  {
   "cell_type": "code",
   "execution_count": 22,
   "metadata": {
    "scrolled": true
   },
   "outputs": [
    {
     "data": {
      "text/plain": [
       "{'Apple Multi-language Profile Name': '31 skSK(Všeobecný RGB profil) daDK(Generel RGB-beskrivelse) caES(Perfil RGB genèric) viVN(Cấu hình RGB Chung) ptBR(Perfil RGB Genérico) ukUA(Загальний профайл RGB) frFU(Profil générique RVB) huHU(Általános RGB profil) zhTW(通用 RGB 色彩描述) nbNO(Generisk RGB-profil) csCZ(Obecný RGB profil) heIL(פרופיל RGB כללי) itIT(Profilo RGB generico) roRO(Profil RGB generic) deDE(Allgemeines RGB-Profil) koKR(일반 RGB 프로파일) svSE(Generisk RGB-profil) zhCN(普通 RGB 描述文件) jaJP(一般 RGB プロファイル) elGR(Γενικό προφίλ RGB) ptPO(Perfil RGB genérico) nlNL(Algemeen RGB-profiel) esES(Perfil RGB genérico) thTH(โปรไฟล์ RGB ทั่วไป) trTR(Genel RGB Profili) fiFI(Yleinen RGB-profiili) hrHR(Generički RGB profil) plPL(Uniwersalny profil RGB) ruRU(Общий профиль RGB) arEG(ملف تعريف RGB العام) enUS(Generic RGB Profile)',\n",
       " 'Application-Name': 'Microsoft Macintosh Excel',\n",
       " 'Application-Version': '14.0300',\n",
       " 'Author': 'Scott Hajek',\n",
       " 'Blue Colorant': '(0.1566, 0.0845, 0.7196)',\n",
       " 'Blue TRC': '0.0070344',\n",
       " 'CMM Type': 'appl',\n",
       " 'Caption Digest': '212 29 140 217 143 0 178 4 233 128 9 152 236 248 66 126',\n",
       " 'Chromatic Adaptation': 'sf32 (0x73663332): 44 bytes',\n",
       " 'Class': 'Display Device',\n",
       " 'Color space': 'RGB',\n",
       " 'Component 1': 'Y component: Quantization table 0, Sampling factors 1 horiz/1 vert',\n",
       " 'Component 2': 'Cb component: Quantization table 1, Sampling factors 1 horiz/1 vert',\n",
       " 'Component 3': 'Cr component: Quantization table 1, Sampling factors 1 horiz/1 vert',\n",
       " 'Compression Type': 'Baseline',\n",
       " 'Content-Type': ['application/vnd.openxmlformats-officedocument.spreadsheetml.sheet',\n",
       "  'image/jpeg'],\n",
       " 'Copyright': 'Copyright 2007 Apple Inc., all rights reserved.',\n",
       " 'Creation-Date': '2017-05-05T21:53:22Z',\n",
       " 'Data Precision': '8 bits',\n",
       " 'Device manufacturer': 'appl',\n",
       " 'Exif Image Height': '166 pixels',\n",
       " 'Exif Image Width': '256 pixels',\n",
       " 'File Modified Date': 'Fri May 05 18:08:49 -04:00 2017',\n",
       " 'File Name': 'apache-tika-7321905224393807016.tmp',\n",
       " 'File Size': '27948 bytes',\n",
       " 'Green Colorant': '(0.3533, 0.6736, 0.0906)',\n",
       " 'Green TRC': '0.0070344',\n",
       " 'Image Height': '166 pixels',\n",
       " 'Image Width': '256 pixels',\n",
       " 'Last-Author': 'Scott Hajek',\n",
       " 'Last-Modified': '2017-05-05T21:55:47Z',\n",
       " 'Last-Save-Date': '2017-05-05T21:55:47Z',\n",
       " 'Media White Point': '(0.9505, 1, 1.0891)',\n",
       " 'Number of Components': '3',\n",
       " 'Primary Platform': 'Apple Computer, Inc.',\n",
       " 'Profile Connection Space': 'XYZ',\n",
       " 'Profile Date/Time': '2009:02:25 11:26:11',\n",
       " 'Profile Description': 'Generic RGB Profile',\n",
       " 'Profile Size': '2008',\n",
       " 'Red Colorant': '(0.4543, 0.2419, 0.0149)',\n",
       " 'Red TRC': '0.0070344',\n",
       " 'Resolution Unit': 'Inch',\n",
       " 'Resolution Units': 'none',\n",
       " 'Signature': 'acsp',\n",
       " 'Tag Count': '11',\n",
       " 'Thumbnail Height Pixels': '0',\n",
       " 'Thumbnail Width Pixels': '0',\n",
       " 'X Resolution': '72 dots per inch',\n",
       " 'X-Parsed-By': ['org.apache.tika.parser.DefaultParser',\n",
       "  'org.apache.tika.parser.microsoft.ooxml.OOXMLParser',\n",
       "  ['org.apache.tika.parser.DefaultParser',\n",
       "   'org.apache.tika.parser.ocr.TesseractOCRParser',\n",
       "   'org.apache.tika.parser.jpeg.JpegParser']],\n",
       " 'X-TIKA:embedded_resource_path': '/thumbnail.jpeg',\n",
       " 'X-TIKA:parse_time_millis': ['1546', '1099'],\n",
       " 'XYZ values': '0.964 1 0.825',\n",
       " 'Y Resolution': '72 dots per inch',\n",
       " 'creator': 'Scott Hajek',\n",
       " 'date': '2017-05-05T21:55:47Z',\n",
       " 'dc:creator': 'Scott Hajek',\n",
       " 'dc:publisher': 'Pivotal',\n",
       " 'dc:title': '/docProps/thumbnail.jpeg',\n",
       " 'dcterms:created': '2017-05-05T21:53:22Z',\n",
       " 'dcterms:modified': '2017-05-05T21:55:47Z',\n",
       " 'embeddedRelationshipId': '/docProps/thumbnail.jpeg',\n",
       " 'extended-properties:AppVersion': '14.0300',\n",
       " 'extended-properties:Application': 'Microsoft Macintosh Excel',\n",
       " 'extended-properties:Company': 'Pivotal',\n",
       " 'meta:author': 'Scott Hajek',\n",
       " 'meta:creation-date': '2017-05-05T21:53:22Z',\n",
       " 'meta:last-author': 'Scott Hajek',\n",
       " 'meta:save-date': '2017-05-05T21:55:47Z',\n",
       " 'modified': '2017-05-05T21:55:47Z',\n",
       " 'protected': 'false',\n",
       " 'publisher': 'Pivotal',\n",
       " 'resourceName': ['example.xlsx', '/docProps/thumbnail.jpeg'],\n",
       " 'tiff:BitsPerSample': '8',\n",
       " 'tiff:ImageLength': '166',\n",
       " 'tiff:ImageWidth': '256',\n",
       " 'tiff:ResolutionUnit': 'Inch',\n",
       " 'tiff:XResolution': '72.0',\n",
       " 'tiff:YResolution': '72.0',\n",
       " 'title': '/docProps/thumbnail.jpeg'}"
      ]
     },
     "execution_count": 22,
     "metadata": {},
     "output_type": "execute_result"
    }
   ],
   "source": [
    "xls_plain['metadata']"
   ]
  },
  {
   "cell_type": "code",
   "execution_count": 23,
   "metadata": {
    "collapsed": true
   },
   "outputs": [],
   "source": [
    "xls_xml = parser.from_file('data/example.xlsx', xmlContent=True)"
   ]
  },
  {
   "cell_type": "code",
   "execution_count": 27,
   "metadata": {},
   "outputs": [
    {
     "data": {
      "text/plain": [
       "'<html xmlns=\"http://www.w3.org/1999/xhtml\">\\n<head>\\n<meta name=\"date\" content=\"2017-05-05T21:55:47Z\" />\\n<meta name=\"extended-properties:AppVersion\" content=\"14.0300\" />\\n<meta name=\"dc:creator\" content=\"Scott Hajek\" />\\n<meta name=\"extended-properties:Company\" content=\"Pivotal\" />\\n<meta name=\"dcterms:created\" content=\"2017-05-05T21:53:22Z\" />\\n<meta name=\"Last-Modified\" content=\"2017-05-05T21:55:47Z\" />\\n<meta name=\"dcterms:modified\" content=\"2017-05-05T21:55:47Z\" />\\n<meta name=\"Last-Save-Date\" content=\"2017-05-05T21:55:47Z\" />\\n<meta name=\"protected\" content=\"false\" />\\n<meta name=\"meta:save-date\" content=\"2017-05-05T21:55:47Z\" />\\n<meta name=\"Application-Name\" content=\"Microsoft Macintosh Excel\" />\\n<meta name=\"modified\" content=\"2017-05-05T21:55:47Z\" />\\n<meta name=\"Content-Type\" content=\"application/vnd.openxmlformats-officedocument.spreadsheetml.sheet\" />\\n<meta name=\"X-Parsed-By\" content=\"org.apache.tika.parser.DefaultParser\" />\\n<meta name=\"X-Parsed-By\" content=\"org.apache.tika.parser.microsoft.ooxml.OOXMLParser\" />\\n<meta name=\"creator\" content=\"Scott Hajek\" />\\n<meta name=\"meta:author\" content=\"Scott Hajek\" />\\n<meta name=\"meta:creation-date\" content=\"2017-05-05T21:53:22Z\" />\\n<meta name=\"extended-properties:Application\" content=\"Microsoft Macintosh Excel\" />\\n<meta name=\"meta:last-author\" content=\"Scott Hajek\" />\\n<meta name=\"Creation-Date\" content=\"2017-05-05T21:53:22Z\" />\\n<meta name=\"resourceName\" content=\"example.xlsx\" />\\n<meta name=\"Last-Author\" content=\"Scott Hajek\" />\\n<meta name=\"Application-Version\" content=\"14.0300\" />\\n<meta name=\"Author\" content=\"Scott Hajek\" />\\n<meta name=\"publisher\" content=\"Pivotal\" />\\n<meta name=\"dc:publisher\" content=\"Pivotal\" />\\n<title></title>\\n</head>\\n<body><div><h1>Sheet1</h1>\\n<table><tbody><tr>\\t<td>Title</td>\\t<td>Author</td></tr>\\n<tr>\\t<td>Tom Sawyer</td>\\t<td>Mark Twain</td></tr>\\n<tr>\\t<td>Outliers</td>\\t<td>Malcolm Gladwell</td></tr>\\n</tbody></table>\\n</div>\\n<div class=\"embedded\" id=\"/docProps/thumbnail.jpeg\" /></body></html><html xmlns=\"http://www.w3.org/1999/xhtml\">\\n<head>\\n<meta name=\"embeddedRelationshipId\" content=\"/docProps/thumbnail.jpeg\" />\\n<meta name=\"X-Parsed-By\" content=\"org.apache.tika.parser.DefaultParser\" />\\n<meta name=\"X-Parsed-By\" content=\"org.apache.tika.parser.ocr.TesseractOCRParser\" />\\n<meta name=\"dc:title\" content=\"/docProps/thumbnail.jpeg\" />\\n<meta name=\"resourceName\" content=\"/docProps/thumbnail.jpeg\" />\\n<meta name=\"X-TIKA:embedded_resource_path\" content=\"/thumbnail.jpeg\" />\\n<meta name=\"Content-Type\" content=\"image/jpeg\" />\\n<title>/docProps/thumbnail.jpeg</title>\\n</head>\\n<body><div class=\"ocr\"> \\n\\nMM MOM GM\\n\\n;zszT\\n\\n \\n\\n \\n\\n \\n\\n</div>\\n<html>\\n\\n<meta name=\"Compression Type\" content=\"Baseline\" />\\n<meta name=\"Number of Components\" content=\"3\" />\\n<meta name=\"Component 2\" content=\"Cb component: Quantization table 1, Sampling factors 1 horiz/1 vert\" />\\n<meta name=\"Component 1\" content=\"Y component: Quantization table 0, Sampling factors 1 horiz/1 vert\" />\\n<meta name=\"tiff:ResolutionUnit\" content=\"Inch\" />\\n<meta name=\"X Resolution\" content=\"72 dots per inch\" />\\n<meta name=\"Blue Colorant\" content=\"(0.1566, 0.0845, 0.7196)\" />\\n<meta name=\"Copyright\" content=\"Copyright 2007 Apple Inc., all rights reserved.\" />\\n<meta name=\"embeddedRelationshipId\" content=\"/docProps/thumbnail.jpeg\" />\\n<meta name=\"Component 3\" content=\"Cr component: Quantization table 1, Sampling factors 1 horiz/1 vert\" />\\n<meta name=\"dc:title\" content=\"/docProps/thumbnail.jpeg\" />\\n<meta name=\"tiff:BitsPerSample\" content=\"8\" />\\n<meta name=\"Primary Platform\" content=\"Apple Computer, Inc.\" />\\n<meta name=\"Caption Digest\" content=\"212 29 140 217 143 0 178 4 233 128 9 152 236 248 66 126\" />\\n<meta name=\"resourceName\" content=\"/docProps/thumbnail.jpeg\" />\\n<meta name=\"Blue TRC\" content=\"0.0070344\" />\\n<meta name=\"Red Colorant\" content=\"(0.4543, 0.2419, 0.0149)\" />\\n<meta name=\"Tag Count\" content=\"11\" />\\n<meta name=\"Color space\" content=\"RGB\" />\\n<meta name=\"Exif Image Height\" content=\"166 pixels\" />\\n<meta name=\"Class\" content=\"Display Device\" />\\n<meta name=\"Profile Date/Time\" content=\"2009:02:25 11:26:11\" />\\n<meta name=\"Profile Connection Space\" content=\"XYZ\" />\\n<meta name=\"tiff:YResolution\" content=\"72.0\" />\\n<meta name=\"Y Resolution\" content=\"72 dots per inch\" />\\n<meta name=\"Green TRC\" content=\"0.0070344\" />\\n<meta name=\"Data Precision\" content=\"8 bits\" />\\n<meta name=\"tiff:ImageLength\" content=\"166\" />\\n<meta name=\"CMM Type\" content=\"appl\" />\\n<meta name=\"XYZ values\" content=\"0.964 1 0.825\" />\\n<meta name=\"Green Colorant\" content=\"(0.3533, 0.6736, 0.0906)\" />\\n<meta name=\"Thumbnail Height Pixels\" content=\"0\" />\\n<meta name=\"Profile Description\" content=\"Generic RGB Profile\" />\\n<meta name=\"File Size\" content=\"27948 bytes\" />\\n<meta name=\"File Name\" content=\"apache-tika-9121902516899943078.tmp\" />\\n<meta name=\"Media White Point\" content=\"(0.9505, 1, 1.0891)\" />\\n<meta name=\"Content-Type\" content=\"image/jpeg\" />\\n<meta name=\"X-Parsed-By\" content=\"org.apache.tika.parser.DefaultParser\" />\\n<meta name=\"X-Parsed-By\" content=\"org.apache.tika.parser.ocr.TesseractOCRParser\" />\\n<meta name=\"X-Parsed-By\" content=\"org.apache.tika.parser.jpeg.JpegParser\" />\\n<meta name=\"Resolution Units\" content=\"none\" />\\n<meta name=\"File Modified Date\" content=\"Fri May 05 18:10:59 -04:00 2017\" />\\n<meta name=\"tiff:XResolution\" content=\"72.0\" />\\n<meta name=\"Exif Image Width\" content=\"256 pixels\" />\\n<meta name=\"Image Height\" content=\"166 pixels\" />\\n<meta name=\"Thumbnail Width Pixels\" content=\"0\" />\\n<meta name=\"Image Width\" content=\"256 pixels\" />\\n<meta name=\"Profile Size\" content=\"2008\" />\\n<meta name=\"Resolution Unit\" content=\"Inch\" />\\n<meta name=\"Device manufacturer\" content=\"appl\" />\\n<meta name=\"Apple Multi-language Profile Name\" content=\"31 skSK(Všeobecný RGB profil) daDK(Generel RGB-beskrivelse) caES(Perfil RGB genèric) viVN(Cấu hình RGB Chung) ptBR(Perfil RGB Genérico) ukUA(Загальний профайл RGB) frFU(Profil générique RVB) huHU(Általános RGB profil) zhTW(通用 RGB 色彩描述) nbNO(Generisk RGB-profil) csCZ(Obecný RGB profil) heIL(פרופיל RGB כללי) itIT(Profilo RGB generico) roRO(Profil RGB generic) deDE(Allgemeines RGB-Profil) koKR(일반 RGB 프로파일) svSE(Generisk RGB-profil) zhCN(普通 RGB 描述文件) jaJP(一般 RGB プロファイル) elGR(Γενικό προφίλ RGB) ptPO(Perfil RGB genérico) nlNL(Algemeen RGB-profiel) esES(Perfil RGB genérico) thTH(โปรไฟล์ RGB ทั่วไป) trTR(Genel RGB Profili) fiFI(Yleinen RGB-profiili) hrHR(Generički RGB profil) plPL(Uniwersalny profil RGB) ruRU(Общий профиль RGB) arEG(ملف تعريف RGB العام) enUS(Generic RGB Profile)\" />\\n<meta name=\"Signature\" content=\"acsp\" />\\n<meta name=\"Chromatic Adaptation\" content=\"sf32 (0x73663332): 44 bytes\" />\\n<meta name=\"X-TIKA:embedded_resource_path\" content=\"/thumbnail.jpeg\" />\\n<meta name=\"tiff:ImageWidth\" content=\"256\" />\\n<meta name=\"Red TRC\" content=\"0.0070344\" />\\n<title>/docProps/thumbnail.jpeg</title>\\n\\n<body /></html></body></html>'"
      ]
     },
     "execution_count": 27,
     "metadata": {},
     "output_type": "execute_result"
    }
   ],
   "source": [
    "xls_xml['content']"
   ]
  },
  {
   "cell_type": "markdown",
   "metadata": {},
   "source": [
    "## Work in progress\n",
    "Parse the XML for the &lt;table&gt; tag"
   ]
  },
  {
   "cell_type": "code",
   "execution_count": 30,
   "metadata": {},
   "outputs": [],
   "source": [
    "root = ET.fromstring('<root>{}</root>'.format(xls_xml['content']))"
   ]
  },
  {
   "cell_type": "code",
   "execution_count": 37,
   "metadata": {},
   "outputs": [],
   "source": [
    "root.getchildren()[0].find('table')"
   ]
  },
  {
   "cell_type": "markdown",
   "metadata": {},
   "source": [
    "# Image example\n"
   ]
  },
  {
   "cell_type": "code",
   "execution_count": 44,
   "metadata": {
    "collapsed": true
   },
   "outputs": [],
   "source": [
    "jpg_plain = parser.from_file('data/sun-flower-1536088_640.jpg', xmlContent=False)"
   ]
  },
  {
   "cell_type": "code",
   "execution_count": 45,
   "metadata": {},
   "outputs": [
    {
     "data": {
      "text/plain": [
       "{'content': None,\n",
       " 'metadata': {'Component 1': 'Y component: Quantization table 0, Sampling factors 2 horiz/2 vert',\n",
       "  'Component 2': 'Cb component: Quantization table 1, Sampling factors 1 horiz/1 vert',\n",
       "  'Component 3': 'Cr component: Quantization table 1, Sampling factors 1 horiz/1 vert',\n",
       "  'Compression Type': 'Baseline',\n",
       "  'Content-Type': 'image/jpeg',\n",
       "  'Creation-Date': '2016-07-04T10:21:49',\n",
       "  'Data Precision': '8 bits',\n",
       "  'Date/Time Original': '2016:07:04 14:21:49',\n",
       "  'Exposure Time': '1/4000 sec',\n",
       "  'F-Number': 'f/4.0',\n",
       "  'File Modified Date': 'Fri May 05 18:24:55 -04:00 2017',\n",
       "  'File Name': 'apache-tika-8636408895051569645.tmp',\n",
       "  'File Size': '59358 bytes',\n",
       "  'Focal Length': '35 mm',\n",
       "  'Image Height': '419 pixels',\n",
       "  'Image Width': '640 pixels',\n",
       "  'Lens Make': 'FUJIFILM',\n",
       "  'Lens Model': 'XF35mmF1.4 R',\n",
       "  'Make': 'FUJIFILM',\n",
       "  'Model': 'X-T10',\n",
       "  'Number of Components': '3',\n",
       "  'Resolution Units': 'inch',\n",
       "  'Thumbnail Height Pixels': '0',\n",
       "  'Thumbnail Width Pixels': '0',\n",
       "  'X Resolution': '300 dots',\n",
       "  'X-Parsed-By': ['org.apache.tika.parser.DefaultParser',\n",
       "   'org.apache.tika.parser.ocr.TesseractOCRParser',\n",
       "   'org.apache.tika.parser.jpeg.JpegParser'],\n",
       "  'X-TIKA:parse_time_millis': '2430',\n",
       "  'Y Resolution': '300 dots',\n",
       "  'dcterms:created': '2016-07-04T10:21:49',\n",
       "  'exif:DateTimeOriginal': '2016-07-04T10:21:49',\n",
       "  'exif:ExposureTime': '2.5E-4',\n",
       "  'exif:FNumber': '4.0',\n",
       "  'exif:FocalLength': '35.0',\n",
       "  'exif:IsoSpeedRatings': '500 0',\n",
       "  'meta:creation-date': '2016-07-04T10:21:49',\n",
       "  'resourceName': 'sun-flower-1536088_640.jpg',\n",
       "  'tiff:BitsPerSample': '8',\n",
       "  'tiff:ImageLength': '419',\n",
       "  'tiff:ImageWidth': '640',\n",
       "  'tiff:Make': 'FUJIFILM',\n",
       "  'tiff:Model': 'X-T10'}}"
      ]
     },
     "execution_count": 45,
     "metadata": {},
     "output_type": "execute_result"
    }
   ],
   "source": [
    "jpg_plain"
   ]
  },
  {
   "cell_type": "code",
   "execution_count": null,
   "metadata": {
    "collapsed": true
   },
   "outputs": [],
   "source": []
  }
 ],
 "metadata": {
  "anaconda-cloud": {},
  "kernelspec": {
   "display_name": "Python [conda env:py35]",
   "language": "python",
   "name": "conda-env-py35-py"
  },
  "language_info": {
   "codemirror_mode": {
    "name": "ipython",
    "version": 3
   },
   "file_extension": ".py",
   "mimetype": "text/x-python",
   "name": "python",
   "nbconvert_exporter": "python",
   "pygments_lexer": "ipython3",
   "version": "3.5.2"
  }
 },
 "nbformat": 4,
 "nbformat_minor": 1
}
